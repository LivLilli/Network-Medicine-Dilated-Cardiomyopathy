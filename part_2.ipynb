{
 "cells": [
  {
   "cell_type": "code",
   "execution_count": 1,
   "metadata": {},
   "outputs": [],
   "source": [
    "import pandas as pd\n",
    "import networkx as nx\n",
    "import markov_clustering as mc\n",
    "import numpy as np\n",
    "import os"
   ]
  },
  {
   "cell_type": "markdown",
   "metadata": {},
   "source": [
    "# Task 2.1\n",
    "\n",
    "# a)\n",
    "\n",
    "Calculate the following global (i.e. concerning the whole network and not the single nodes)\n",
    "measures of SGI, U and I (only if no. of nodes >20):\n",
    "\n",
    "• No. of nodes and no. of links\n",
    "\n",
    "• No. of connected components\n",
    "\n",
    "• No. of isolated nodes\n",
    "\n",
    "• Average path length\n",
    "\n",
    "• Average degree\n",
    "\n",
    "• Average clustering coefficient\n",
    "\n",
    "• Network diameter & radius\n",
    "\n",
    "• Centralization"
   ]
  },
  {
   "cell_type": "code",
   "execution_count": 143,
   "metadata": {},
   "outputs": [],
   "source": [
    "# read union dataset\n",
    "union_df = pd.read_csv('results/union.csv', index_col=0)\n"
   ]
  },
  {
   "cell_type": "code",
   "execution_count": 3,
   "metadata": {},
   "outputs": [],
   "source": [
    "intersection_df = pd.read_csv('results/intersection.csv', index_col=0)"
   ]
  },
  {
   "cell_type": "code",
   "execution_count": 4,
   "metadata": {},
   "outputs": [],
   "source": [
    "sgi_df = pd.read_csv('results/sgi.csv', index_col=0)"
   ]
  },
  {
   "cell_type": "code",
   "execution_count": 5,
   "metadata": {},
   "outputs": [],
   "source": [
    "def task_2_1_a(df, type_net):\n",
    "    # undirected graph object\n",
    "    graph = nx.from_pandas_edgelist(df, source = 'interactor A gene symbol', target='interactor B gene symbol')\n",
    "    # check number of nodes\n",
    "    if graph.number_of_nodes() >20:\n",
    "        n_nodes = graph.number_of_nodes()\n",
    "        # not consider the duplicates (union can have same edges with different sources: they will be considered just one time)\n",
    "        n_edges = graph.number_of_edges()\n",
    "        # number of connected components\n",
    "        conn_components = nx.number_connected_components(graph)\n",
    "        # number of isolates\n",
    "        n_isolates = nx.number_of_isolates(graph)\n",
    "        # average degree\n",
    "        avg_degree = n_edges/n_nodes\n",
    "        # avg clustering coefficient\n",
    "        avg_cluster_coeff = nx.average_clustering(graph)\n",
    "        \n",
    "        print('%s'%type_net,'network has: \\n')\n",
    "        print(n_nodes, 'nodes')\n",
    "        print(n_edges, 'edges')\n",
    "        print(conn_components,'connected components')\n",
    "        print(n_isolates, 'isolated nodes')\n",
    "        print('average degree = ', avg_degree)\n",
    "        print('average clustering coefficient = ', avg_cluster_coeff)\n",
    "        \n",
    "        # if graph is connected\n",
    "        if conn_components ==1:\n",
    "            \n",
    "            # average shprtest path length\n",
    "            avg_path = nx.average_shortest_path_length(graph)\n",
    "            # diameter \n",
    "            diameter = nx.diameter(graph)\n",
    "            # radius \n",
    "            radius = nx.radius(graph)\n",
    "        \n",
    "            print('shortest path length = ', avg_path)\n",
    "            print('diameter = ', diameter)\n",
    "            print('radius = ', radius)\n",
    "            \n",
    "        # if graph not connected  \n",
    "        else:\n",
    "            ll=[]\n",
    "            #for each connected component computes the properties\n",
    "            c = 1\n",
    "            for g in nx.connected_component_subgraphs(graph): \n",
    "                print('Connected Component',c)\n",
    "                print('average Shortest Path: ', nx.average_shortest_path_length(g))\n",
    "                print('diameter', nx.diameter(g))\n",
    "                print('radius', nx.radius(g))\n",
    "                c +=1\n",
    "    else:\n",
    "        print('%s'%type_net,'network do not have a number of edges bigger than 20')"
   ]
  },
  {
   "cell_type": "code",
   "execution_count": 6,
   "metadata": {},
   "outputs": [
    {
     "name": "stdout",
     "output_type": "stream",
     "text": [
      "Intersection network has: \n",
      "\n",
      "57 nodes\n",
      "89 edges\n",
      "10 connected components\n",
      "0 isolated nodes\n",
      "average degree =  1.5614035087719298\n",
      "average clustering coefficient =  0.09359509885825675\n",
      "Connected Component 1\n",
      "average Shortest Path:  3.6659619450317127\n",
      "diameter 9\n",
      "radius 5\n",
      "Connected Component 2\n",
      "average Shortest Path:  0\n",
      "diameter 0\n",
      "radius 0\n",
      "Connected Component 3\n",
      "average Shortest Path:  0\n",
      "diameter 0\n",
      "radius 0\n",
      "Connected Component 4\n",
      "average Shortest Path:  1.0\n",
      "diameter 1\n",
      "radius 1\n",
      "Connected Component 5\n",
      "average Shortest Path:  1.3333333333333333\n",
      "diameter 2\n",
      "radius 1\n",
      "Connected Component 6\n",
      "average Shortest Path:  0\n",
      "diameter 0\n",
      "radius 0\n",
      "Connected Component 7\n",
      "average Shortest Path:  1.0\n",
      "diameter 1\n",
      "radius 1\n",
      "Connected Component 8\n",
      "average Shortest Path:  0\n",
      "diameter 0\n",
      "radius 0\n",
      "Connected Component 9\n",
      "average Shortest Path:  0\n",
      "diameter 0\n",
      "radius 0\n",
      "Connected Component 10\n",
      "average Shortest Path:  0\n",
      "diameter 0\n",
      "radius 0\n"
     ]
    }
   ],
   "source": [
    "task_2_1_a(intersection_df, 'Intersection')"
   ]
  },
  {
   "cell_type": "code",
   "execution_count": 7,
   "metadata": {},
   "outputs": [
    {
     "name": "stdout",
     "output_type": "stream",
     "text": [
      "Union network has: \n",
      "\n",
      "5513 nodes\n",
      "10329 edges\n",
      "2 connected components\n",
      "0 isolated nodes\n",
      "average degree =  1.8735715581353165\n",
      "average clustering coefficient =  0.07321978067098309\n",
      "Connected Component 1\n",
      "average Shortest Path:  3.4924265343579193\n",
      "diameter 7\n",
      "radius 4\n",
      "Connected Component 2\n",
      "average Shortest Path:  1.5\n",
      "diameter 2\n",
      "radius 1\n"
     ]
    }
   ],
   "source": [
    "task_2_1_a(union_df, 'Union')"
   ]
  },
  {
   "cell_type": "code",
   "execution_count": 8,
   "metadata": {},
   "outputs": [
    {
     "name": "stdout",
     "output_type": "stream",
     "text": [
      "SGI network has: \n",
      "\n",
      "74 nodes\n",
      "176 edges\n",
      "13 connected components\n",
      "0 isolated nodes\n",
      "average degree =  2.3783783783783785\n",
      "average clustering coefficient =  0.15667418167418168\n",
      "Connected Component 1\n",
      "average Shortest Path:  3.23879781420765\n",
      "diameter 7\n",
      "radius 4\n",
      "Connected Component 2\n",
      "average Shortest Path:  0\n",
      "diameter 0\n",
      "radius 0\n",
      "Connected Component 3\n",
      "average Shortest Path:  0\n",
      "diameter 0\n",
      "radius 0\n",
      "Connected Component 4\n",
      "average Shortest Path:  0\n",
      "diameter 0\n",
      "radius 0\n",
      "Connected Component 5\n",
      "average Shortest Path:  0\n",
      "diameter 0\n",
      "radius 0\n",
      "Connected Component 6\n",
      "average Shortest Path:  1.0\n",
      "diameter 1\n",
      "radius 1\n",
      "Connected Component 7\n",
      "average Shortest Path:  0\n",
      "diameter 0\n",
      "radius 0\n",
      "Connected Component 8\n",
      "average Shortest Path:  0\n",
      "diameter 0\n",
      "radius 0\n",
      "Connected Component 9\n",
      "average Shortest Path:  0\n",
      "diameter 0\n",
      "radius 0\n",
      "Connected Component 10\n",
      "average Shortest Path:  0\n",
      "diameter 0\n",
      "radius 0\n",
      "Connected Component 11\n",
      "average Shortest Path:  0\n",
      "diameter 0\n",
      "radius 0\n",
      "Connected Component 12\n",
      "average Shortest Path:  0\n",
      "diameter 0\n",
      "radius 0\n",
      "Connected Component 13\n",
      "average Shortest Path:  0\n",
      "diameter 0\n",
      "radius 0\n"
     ]
    }
   ],
   "source": [
    "task_2_1_a(sgi_df, 'SGI')"
   ]
  },
  {
   "cell_type": "markdown",
   "metadata": {},
   "source": [
    "# b) \n",
    "\n",
    "Isolate the largest connected component (LCC) of I and U and calculate the following global and local (i.e. for each node) measures:\n",
    "\n",
    "### Global:\n",
    "\n",
    "• N. of nodes and no. of links\n",
    "\n",
    "• Average path length\n",
    "\n",
    "• Average degree\n",
    "\n",
    "• Average clustering coefficient\n",
    "\n",
    "• Network diameter & radius\n",
    "\n",
    "• Centralization\n",
    "\n",
    "### Local:\n",
    "\n",
    "• Node degree\n",
    "\n",
    "• Betweenness centrality\n",
    "\n",
    "• Eigenvector centrality\n",
    "\n",
    "• Closeness centrality\n",
    "\n",
    "• ratio Betweenness/Node degree\n",
    "\n",
    "\n",
    "Store the results in a suitable matrix format of your choice."
   ]
  },
  {
   "cell_type": "markdown",
   "metadata": {},
   "source": [
    "### NB\n",
    "\n",
    "\n",
    "Beacuse of the better computational time, we computed some global measures (avg shortest path, radius and diameter) and the local ones through the R igraph package."
   ]
  },
  {
   "cell_type": "code",
   "execution_count": 33,
   "metadata": {},
   "outputs": [],
   "source": [
    "# save the lcc adjacency matrix to csv file in order to use it on R\n",
    "def lcc_a_matrix_to_csv(df, data_type):\n",
    "    \n",
    "    # create graph from df\n",
    "    graph = nx.from_pandas_edgelist(df, source = 'interactor A gene symbol', target='interactor B gene symbol')\n",
    "    # return set of nodes of the largest connected component\n",
    "    lcc_set = max(nx.connected_components(graph), key=len)\n",
    "    # lcc subgraph\n",
    "    lcc_graph = graph.subgraph(lcc_set)\n",
    "    # numpy adj matrix\n",
    "    a= nx.to_numpy_matrix(lcc_graph)\n",
    "    try:\n",
    "        os.remove('data/%s'%data_type +'_lcc_matrix.csv')\n",
    "    except:\n",
    "        pass\n",
    "    # save to csv\n",
    "    #np.savetxt('data/%s'%data_type+'_lcc_matrix.csv', a, delimiter=\",\", header='')\n",
    "    pd.DataFrame(a).to_csv('data/%s'%data_type +'_lcc_matrix.csv')\n",
    "    \n",
    "# save union matrix to csv\n",
    "lcc_a_matrix_to_csv(union_df, 'union')\n",
    "# save intersection matrix to csv\n",
    "lcc_a_matrix_to_csv(intersection_df, 'intersection')"
   ]
  },
  {
   "cell_type": "code",
   "execution_count": 9,
   "metadata": {},
   "outputs": [],
   "source": [
    "def task_2_1_b_global(df, type_net):\n",
    "    # create graph from df\n",
    "    graph = nx.from_pandas_edgelist(df, source = 'interactor A gene symbol', target='interactor B gene symbol')\n",
    "    # return set of nodes of the largest connected component\n",
    "    lcc_set = max(nx.connected_components(graph), key=len)\n",
    "    # lcc subgraph\n",
    "    lcc_graph = graph.subgraph(lcc_set)\n",
    "    # number of nodes\n",
    "    n_nodes = lcc_graph.number_of_nodes()\n",
    "    # number of edges\n",
    "    # not consider the duplicates (union can have same edges with different sources: they will be considered just one time)\n",
    "    n_edges = lcc_graph.number_of_edges()\n",
    "    # average degree\n",
    "    avg_degree = n_edges/n_nodes\n",
    "    # avg clustering coefficient\n",
    "    avg_cluster_coeff = nx.average_clustering(lcc_graph)\n",
    "    \n",
    "    \n",
    "    print('%s'%type_net,'lcc has: \\n')\n",
    "    print(n_nodes, 'nodes')\n",
    "    print(n_edges, 'edges')\n",
    "    print('average degree = ', avg_degree)\n",
    "    print('average clustering coefficient = ', avg_cluster_coeff)\n",
    "    \n",
    "      "
   ]
  },
  {
   "cell_type": "code",
   "execution_count": 10,
   "metadata": {},
   "outputs": [
    {
     "name": "stdout",
     "output_type": "stream",
     "text": [
      "Union lcc has: \n",
      "\n",
      "5509 nodes\n",
      "10326 edges\n",
      "average degree =  1.8743873661281538\n",
      "average clustering coefficient =  0.0732729444253276\n"
     ]
    }
   ],
   "source": [
    "task_2_1_b_global(union_df, 'Union')"
   ]
  },
  {
   "cell_type": "code",
   "execution_count": 11,
   "metadata": {},
   "outputs": [
    {
     "name": "stdout",
     "output_type": "stream",
     "text": [
      "Intersection lcc has: \n",
      "\n",
      "44 nodes\n",
      "77 edges\n",
      "average degree =  1.75\n",
      "average clustering coefficient =  0.12124819624819624\n"
     ]
    }
   ],
   "source": [
    "task_2_1_b_global(intersection_df, 'Intersection')"
   ]
  },
  {
   "cell_type": "code",
   "execution_count": 45,
   "metadata": {},
   "outputs": [],
   "source": [
    "# read adj matrix of lcc intersection\n",
    "#pd.read_csv('data/intersection_lcc_matrix.csv').drop(['Unnamed: 0'],axis=1)"
   ]
  },
  {
   "cell_type": "markdown",
   "metadata": {},
   "source": [
    "# Task 2.2\n",
    "\n",
    "Cluster I-LCC and U-LCC using the MCL algorithm to get the modules.\n",
    "Once you have clustered the networks, find modules with no. of nodes >= 10 in which seed genes are statistically overrepresented (p<0.05) by applying a hypergeometric test: such modules will be the “putative disease modules”.\n",
    "Store the results for both U-LCC and I-LCC in tables including in each row: clustering algorithm used, module ID, no. of seed genes in the module, total no. of genes in each module, seed gene IDs, all gene IDs in the module, p-value."
   ]
  }
 ],
 "metadata": {
  "kernelspec": {
   "display_name": "Python 3",
   "language": "python",
   "name": "python3"
  },
  "language_info": {
   "codemirror_mode": {
    "name": "ipython",
    "version": 3
   },
   "file_extension": ".py",
   "mimetype": "text/x-python",
   "name": "python",
   "nbconvert_exporter": "python",
   "pygments_lexer": "ipython3",
   "version": "3.7.4"
  }
 },
 "nbformat": 4,
 "nbformat_minor": 4
}
