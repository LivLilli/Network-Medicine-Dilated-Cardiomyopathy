{
 "cells": [
  {
   "cell_type": "code",
   "execution_count": 3,
   "metadata": {},
   "outputs": [],
   "source": [
    "import pandas as pd"
   ]
  },
  {
   "cell_type": "code",
   "execution_count": 9,
   "metadata": {},
   "outputs": [
    {
     "data": {
      "text/html": [
       "<div>\n",
       "<style scoped>\n",
       "    .dataframe tbody tr th:only-of-type {\n",
       "        vertical-align: middle;\n",
       "    }\n",
       "\n",
       "    .dataframe tbody tr th {\n",
       "        vertical-align: top;\n",
       "    }\n",
       "\n",
       "    .dataframe thead th {\n",
       "        text-align: right;\n",
       "    }\n",
       "</style>\n",
       "<table border=\"1\" class=\"dataframe\">\n",
       "  <thead>\n",
       "    <tr style=\"text-align: right;\">\n",
       "      <th></th>\n",
       "      <th>interactor A gene symbol</th>\n",
       "      <th>interactor B gene symbol</th>\n",
       "      <th>interactor A Uniprot AC</th>\n",
       "      <th>interactor B Uniprot AC</th>\n",
       "      <th>database source</th>\n",
       "    </tr>\n",
       "  </thead>\n",
       "  <tbody>\n",
       "    <tr>\n",
       "      <td>0</td>\n",
       "      <td>TCAP</td>\n",
       "      <td>TTN</td>\n",
       "      <td>O15273</td>\n",
       "      <td>Q8WZ42</td>\n",
       "      <td>IID</td>\n",
       "    </tr>\n",
       "    <tr>\n",
       "      <td>1</td>\n",
       "      <td>TCAP</td>\n",
       "      <td>CSRP3</td>\n",
       "      <td>O15273</td>\n",
       "      <td>P50461</td>\n",
       "      <td>IID</td>\n",
       "    </tr>\n",
       "    <tr>\n",
       "      <td>2</td>\n",
       "      <td>TCAP</td>\n",
       "      <td>ENO3</td>\n",
       "      <td>O15273</td>\n",
       "      <td>P13929</td>\n",
       "      <td>IID</td>\n",
       "    </tr>\n",
       "    <tr>\n",
       "      <td>3</td>\n",
       "      <td>TCAP</td>\n",
       "      <td>ENO1</td>\n",
       "      <td>O15273</td>\n",
       "      <td>P06733</td>\n",
       "      <td>IID</td>\n",
       "    </tr>\n",
       "    <tr>\n",
       "      <td>4</td>\n",
       "      <td>TCAP</td>\n",
       "      <td>MYOZ1</td>\n",
       "      <td>O15273</td>\n",
       "      <td>Q9NP98</td>\n",
       "      <td>IID</td>\n",
       "    </tr>\n",
       "  </tbody>\n",
       "</table>\n",
       "</div>"
      ],
      "text/plain": [
       "  interactor A gene symbol interactor B gene symbol interactor A Uniprot AC  \\\n",
       "0                     TCAP                      TTN                  O15273   \n",
       "1                     TCAP                    CSRP3                  O15273   \n",
       "2                     TCAP                     ENO3                  O15273   \n",
       "3                     TCAP                     ENO1                  O15273   \n",
       "4                     TCAP                    MYOZ1                  O15273   \n",
       "\n",
       "  interactor B Uniprot AC database source  \n",
       "0                  Q8WZ42             IID  \n",
       "1                  P50461             IID  \n",
       "2                  P13929             IID  \n",
       "3                  P06733             IID  \n",
       "4                  Q9NP98             IID  "
      ]
     },
     "execution_count": 9,
     "metadata": {},
     "output_type": "execute_result"
    }
   ],
   "source": [
    "# read union dataset\n",
    "union_df = pd.read_csv('results/union.csv', index_col=0)\n",
    "union_df.head()"
   ]
  },
  {
   "cell_type": "code",
   "execution_count": 11,
   "metadata": {},
   "outputs": [],
   "source": [
    "# consider just interactor names as couples of nodes (edges)\n",
    "union_net = union_df[['interactor A gene symbol', 'interactor B gene symbol']]"
   ]
  },
  {
   "cell_type": "code",
   "execution_count": 12,
   "metadata": {},
   "outputs": [],
   "source": [
    "# compute number of nodes\n",
    "\n",
    "def nodes_20(df):\n",
    "    a = list(df['interactor A gene symbol'])\n",
    "    b = list(df['interactor B gene symbol'])\n",
    "    all_nodes = set(a+b)\n",
    "    n_nodes = len(all_nodes)\n",
    "    return n_nodes"
   ]
  },
  {
   "cell_type": "code",
   "execution_count": 25,
   "metadata": {},
   "outputs": [],
   "source": [
    "def global_measures(df, type_net):\n",
    "    if nodes_20(df) >20:\n",
    "        print('%s'%type_net,'network has in total: \\n',nodes_20(df) ,'nodes \\n' ,len(df), 'links')\n",
    "    else:\n",
    "        print('%s'%type_net,'network do not have a number of edges bigger than 20')"
   ]
  },
  {
   "cell_type": "code",
   "execution_count": 26,
   "metadata": {},
   "outputs": [
    {
     "name": "stdout",
     "output_type": "stream",
     "text": [
      "union network has in total: \n",
      " 5513 nodes \n",
      " 33695 links\n"
     ]
    }
   ],
   "source": [
    "global_measures(union_net, 'union')"
   ]
  },
  {
   "cell_type": "code",
   "execution_count": null,
   "metadata": {},
   "outputs": [],
   "source": []
  }
 ],
 "metadata": {
  "kernelspec": {
   "display_name": "Python 3",
   "language": "python",
   "name": "python3"
  },
  "language_info": {
   "codemirror_mode": {
    "name": "ipython",
    "version": 3
   },
   "file_extension": ".py",
   "mimetype": "text/x-python",
   "name": "python",
   "nbconvert_exporter": "python",
   "pygments_lexer": "ipython3",
   "version": "3.7.4"
  }
 },
 "nbformat": 4,
 "nbformat_minor": 4
}
